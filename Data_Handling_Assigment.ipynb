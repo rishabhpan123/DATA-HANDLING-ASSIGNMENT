{
  "nbformat": 4,
  "nbformat_minor": 0,
  "metadata": {
    "colab": {
      "provenance": []
    },
    "kernelspec": {
      "name": "python3",
      "display_name": "Python 3"
    },
    "language_info": {
      "name": "python"
    }
  },
  "cells": [
    {
      "cell_type": "markdown",
      "source": [
        "                              **Theroy**"
      ],
      "metadata": {
        "id": "Fo6s9BRvHJ_F"
      }
    },
    {
      "cell_type": "markdown",
      "source": [
        "1.\tWhat is the difference between interpreted and compiled languages?\n",
        "\n",
        "   - Interpreted languages execute code line by line (e.g., Python, JavaScript).\n",
        "\n",
        "     Compiled languages translate the whole code into machine code before execution (e.g., C, C++).\n",
        "\n",
        "     Key difference: Interpreted languages are slower but more flexible; compiled ones are faster but need compilation before running."
      ],
      "metadata": {
        "id": "ZtZQvv1HHdBl"
      }
    },
    {
      "cell_type": "markdown",
      "source": [
        "2.\t What is exception handling in Python?\n",
        "\n",
        "    - Exception handling allows programs to handle runtime errors gracefully using try, except, else, and finally blocks."
      ],
      "metadata": {
        "id": "Zl3CJT6JHgyE"
      }
    },
    {
      "cell_type": "markdown",
      "source": [
        "3.\tWhat is the purpose of the finally block in exception handling?\n",
        "\n",
        "  - The finally block is used to execute code that should run no matter what—whether an exception occurs or not (e.g., closing a file)."
      ],
      "metadata": {
        "id": "Ezq_2RrFHkDc"
      }
    },
    {
      "cell_type": "markdown",
      "source": [
        "4.\t What is logging in Python?\n",
        "\n",
        "  - Logging is used to record messages (like errors or status updates) from a program to help in debugging and monitoring."
      ],
      "metadata": {
        "id": "cvt1kmMaHmkM"
      }
    },
    {
      "cell_type": "markdown",
      "source": [
        "5.\tWhat is the significance of the __del__ method in Python?  \n",
        "\n",
        "  - __del__() is a destructor method automatically called when an object is about to be destroyed to perform cleanup tasks."
      ],
      "metadata": {
        "id": "Oz-J2DQHHoRc"
      }
    },
    {
      "cell_type": "markdown",
      "source": [
        "6.\t What is the difference between import and from ... import in Python?\n",
        "\n",
        "   - import module imports the entire module.\n",
        "from module import function imports only specific items from a module."
      ],
      "metadata": {
        "id": "4tgMgxD7Hphs"
      }
    },
    {
      "cell_type": "markdown",
      "source": [
        "7.\tHow can you handle multiple exceptions in Python?\n",
        "\n",
        "  - You can handle multiple exceptions using multiple except blocks or by grouping exceptions in a tuple:\n",
        "\n",
        "try:\n",
        "    ...\n",
        "except (TypeError, ValueError):\n",
        "    ..."
      ],
      "metadata": {
        "id": "XWG1-bwcHrO0"
      }
    },
    {
      "cell_type": "markdown",
      "source": [
        "8.\tWhat is the purpose of the with statement when handling files in Python?\n",
        "\n",
        " - It automatically manages file opening and closing, ensuring files are properly closed even if an error occurs."
      ],
      "metadata": {
        "id": "SbWD-AQtHsyU"
      }
    },
    {
      "cell_type": "markdown",
      "source": [
        "9.\tWhat is the difference between multithreading and multiprocessing?\n",
        "\n",
        " -  Multithreading: Multiple threads share the same\n",
        "  memory space.\n",
        "\n",
        "  - Multiprocessing: Uses separate memory spaces for each process, suitable for CPU-bound tasks."
      ],
      "metadata": {
        "id": "QHwYHJonHt70"
      }
    },
    {
      "cell_type": "markdown",
      "source": [
        "10.\tWhat are the advantages of using logging in a program?\n",
        "\n",
        " - Helps in debugging\n",
        "\n",
        " - Tracks errors and program flow\n",
        "\n",
        " - Provides time-stamped records\n",
        "\n",
        " - Can be configured to log to files or consoles"
      ],
      "metadata": {
        "id": "4iF3OuAaHvoc"
      }
    },
    {
      "cell_type": "markdown",
      "source": [
        "11.\tWhat is memory management in Python?\n",
        "\n",
        "  - Python manages memory automatically using reference counting and a garbage collector."
      ],
      "metadata": {
        "id": "tGV4pqsrHw5s"
      }
    },
    {
      "cell_type": "markdown",
      "source": [
        "12.\tWhat are the basic steps involved in exception handling in Python?\n",
        "\n",
        " - Use a try block to test code.\n",
        "\n",
        " - Use except to handle errors.\n",
        "\n",
        " - Optionally use else for code that runs if no exception occurs.\n",
        "\n",
        " - Use finally for cleanup actions."
      ],
      "metadata": {
        "id": "c4DKUTqUHyQ0"
      }
    },
    {
      "cell_type": "markdown",
      "source": [
        "13.\tWhy is memory management important in Python?\n",
        "\n",
        " - It ensures efficient use of memory resources and prevents memory leaks."
      ],
      "metadata": {
        "id": "bOzO0YKnHzyO"
      }
    },
    {
      "cell_type": "markdown",
      "source": [
        "14.\tWhat is the role of try and except in exception handling?\n",
        "\n",
        " - try: Code that may cause an error.\n",
        "\n",
        " - except: Code that handles the error if it occurs."
      ],
      "metadata": {
        "id": "8-eyzlQNH1oF"
      }
    },
    {
      "cell_type": "markdown",
      "source": [
        "15.\tHow does Python's garbage collection system work?\n",
        "\n",
        " - Python uses reference counting and a cyclic garbage collector to reclaim memory from objects no longer in use."
      ],
      "metadata": {
        "id": "HF_6SZzxH26k"
      }
    },
    {
      "cell_type": "markdown",
      "source": [
        "16.\t What is the purpose of the else block in exception handling?\n",
        "\n",
        " - The else block executes only when no exception occurs in the try block."
      ],
      "metadata": {
        "id": "hF9FPbMFH4N1"
      }
    },
    {
      "cell_type": "markdown",
      "source": [
        "17.\tWhat are the common logging levels in Python?\n",
        "\n",
        " - DEBUG, INFO, WARNING, ERROR, and CRITICAL."
      ],
      "metadata": {
        "id": "yxstPCI2H6Hs"
      }
    },
    {
      "cell_type": "markdown",
      "source": [
        "18.\tWhat is the difference between os.fork() and multiprocessing in Python?\n",
        "\n",
        " - os.fork() creates a child process (Unix only).\n",
        "\n",
        " - multiprocessing is cross-platform and provides higher-level process management."
      ],
      "metadata": {
        "id": "D-QE_LQoH7d0"
      }
    },
    {
      "cell_type": "markdown",
      "source": [
        "19.\tWhat is the importance of closing a file in Python?\n",
        "\n",
        " - It frees system resources and ensures data is properly written and saved."
      ],
      "metadata": {
        "id": "V_S1fe6zH8-s"
      }
    },
    {
      "cell_type": "markdown",
      "source": [
        "20.\tWhat is the difference between file.read() and file.readline() in Python?\n",
        "\n",
        " - read() reads the entire file.\n",
        "\n",
        " - readline() reads one line at a time."
      ],
      "metadata": {
        "id": "gVFxu4ahH-Wt"
      }
    },
    {
      "cell_type": "markdown",
      "source": [
        "21.\t What is the logging module in Python used for?\n",
        "\n",
        " - It allows developers to track events, record messages, and debug programs."
      ],
      "metadata": {
        "id": "2moR7KFBIAMG"
      }
    },
    {
      "cell_type": "markdown",
      "source": [
        "22.\t What is the os module in Python used for in file handling?\n",
        "\n",
        " - It provides functions to interact with the operating system, such as managing files and directories."
      ],
      "metadata": {
        "id": "lLiTC1aaIBtE"
      }
    },
    {
      "cell_type": "markdown",
      "source": [
        "23.\tWhat are the challenges associated with memory management in Python?\n",
        "\n",
        " - Circular references\n",
        "\n",
        " - Memory fragmentation\n",
        "\n",
        " - Inefficient use of large data structures"
      ],
      "metadata": {
        "id": "N85SI0VmIDV8"
      }
    },
    {
      "cell_type": "markdown",
      "source": [
        "24.\t How do you raise an exception manually in Python?\n",
        "\n",
        " - Use the raise statement:\n",
        "\n",
        " - raise ValueError(\"Invalid input\")"
      ],
      "metadata": {
        "id": "86Da7cKQIElV"
      }
    },
    {
      "cell_type": "markdown",
      "source": [
        "25.\t Why is it important to use multithreading in certain applications?\n",
        "\n",
        " - It allows concurrent execution of tasks, improving performance in I/O-bound programs."
      ],
      "metadata": {
        "id": "NXHNsmjVIF-0"
      }
    },
    {
      "cell_type": "markdown",
      "source": [
        "                  **Practical Questions**"
      ],
      "metadata": {
        "id": "3gm8znkmIHUE"
      }
    },
    {
      "cell_type": "code",
      "source": [
        "# 1.\tHow can you open a file for writing in Python and write a string to it?\n",
        "\n",
        "with open(\"file.txt\", \"w\") as f:\n",
        "    f.write(\"Hello, Python!\")"
      ],
      "metadata": {
        "id": "mYN5a4rlIVb8"
      },
      "execution_count": null,
      "outputs": []
    },
    {
      "cell_type": "code",
      "source": [
        "# 2.\t Write a Python program to read the contents of a file and print each line?\n",
        "\n",
        "with open(\"file.txt\", \"r\") as f:\n",
        "    for line in f:\n",
        "        print(line.strip())\n"
      ],
      "metadata": {
        "colab": {
          "base_uri": "https://localhost:8080/"
        },
        "id": "5Rlx_CU_IYS1",
        "outputId": "96191905-4cd0-47c4-e638-3519d3c7a202"
      },
      "execution_count": null,
      "outputs": [
        {
          "output_type": "stream",
          "name": "stdout",
          "text": [
            "Hello, Python!\n"
          ]
        }
      ]
    },
    {
      "cell_type": "code",
      "source": [
        "#  3.\tHow would you handle a case where the file doesn't exist while trying to open it for reading?\n",
        "\n",
        "try:\n",
        "    f = open(\"nofile.txt\", \"r\")\n",
        "except FileNotFoundError:\n",
        "    print(\"File not found!\")\n"
      ],
      "metadata": {
        "colab": {
          "base_uri": "https://localhost:8080/"
        },
        "id": "4ZxbkF5HIaOk",
        "outputId": "30754c4b-37b0-4a7d-b471-d322a8160680"
      },
      "execution_count": null,
      "outputs": [
        {
          "output_type": "stream",
          "name": "stdout",
          "text": [
            "File not found!\n"
          ]
        }
      ]
    },
    {
      "cell_type": "code",
      "source": [
        "# 4.\t Write a Python script that reads from one file and writes its content to another file?\n",
        "\n",
        "with open(\"source.txt\", \"r\") as src, open(\"dest.txt\", \"w\") as dst:\n",
        "    dst.write(src.read())\n"
      ],
      "metadata": {
        "colab": {
          "base_uri": "https://localhost:8080/",
          "height": 193
        },
        "id": "IhGm9D_LIdCs",
        "outputId": "5d8c083d-712c-4596-b87f-9b858d25d308"
      },
      "execution_count": null,
      "outputs": [
        {
          "output_type": "error",
          "ename": "FileNotFoundError",
          "evalue": "[Errno 2] No such file or directory: 'source.txt'",
          "traceback": [
            "\u001b[0;31m---------------------------------------------------------------------------\u001b[0m",
            "\u001b[0;31mFileNotFoundError\u001b[0m                         Traceback (most recent call last)",
            "\u001b[0;32m/tmp/ipython-input-1421287005.py\u001b[0m in \u001b[0;36m<cell line: 0>\u001b[0;34m()\u001b[0m\n\u001b[1;32m      1\u001b[0m \u001b[0;31m# 4.     Write a Python script that reads from one file and writes its content to another file?\u001b[0m\u001b[0;34m\u001b[0m\u001b[0;34m\u001b[0m\u001b[0m\n\u001b[1;32m      2\u001b[0m \u001b[0;34m\u001b[0m\u001b[0m\n\u001b[0;32m----> 3\u001b[0;31m \u001b[0;32mwith\u001b[0m \u001b[0mopen\u001b[0m\u001b[0;34m(\u001b[0m\u001b[0;34m\"source.txt\"\u001b[0m\u001b[0;34m,\u001b[0m \u001b[0;34m\"r\"\u001b[0m\u001b[0;34m)\u001b[0m \u001b[0;32mas\u001b[0m \u001b[0msrc\u001b[0m\u001b[0;34m,\u001b[0m \u001b[0mopen\u001b[0m\u001b[0;34m(\u001b[0m\u001b[0;34m\"dest.txt\"\u001b[0m\u001b[0;34m,\u001b[0m \u001b[0;34m\"w\"\u001b[0m\u001b[0;34m)\u001b[0m \u001b[0;32mas\u001b[0m \u001b[0mdst\u001b[0m\u001b[0;34m:\u001b[0m\u001b[0;34m\u001b[0m\u001b[0;34m\u001b[0m\u001b[0m\n\u001b[0m\u001b[1;32m      4\u001b[0m     \u001b[0mdst\u001b[0m\u001b[0;34m.\u001b[0m\u001b[0mwrite\u001b[0m\u001b[0;34m(\u001b[0m\u001b[0msrc\u001b[0m\u001b[0;34m.\u001b[0m\u001b[0mread\u001b[0m\u001b[0;34m(\u001b[0m\u001b[0;34m)\u001b[0m\u001b[0;34m)\u001b[0m\u001b[0;34m\u001b[0m\u001b[0;34m\u001b[0m\u001b[0m\n",
            "\u001b[0;31mFileNotFoundError\u001b[0m: [Errno 2] No such file or directory: 'source.txt'"
          ]
        }
      ]
    },
    {
      "cell_type": "code",
      "source": [
        "# 5.\t How would you catch and handle division by zero error in Python?\n",
        "try:\n",
        "    x = 5 / 0\n",
        "except ZeroDivisionError:\n",
        "    print(\"Cannot divide by zero!\")\n"
      ],
      "metadata": {
        "colab": {
          "base_uri": "https://localhost:8080/"
        },
        "id": "mJwr2YlJIf5s",
        "outputId": "267a8872-3793-4a6e-f63c-4b8a63694c69"
      },
      "execution_count": null,
      "outputs": [
        {
          "output_type": "stream",
          "name": "stdout",
          "text": [
            "Cannot divide by zero!\n"
          ]
        }
      ]
    },
    {
      "cell_type": "code",
      "source": [
        "# 6.\t Write a Python program that logs an error message to a log file when a division by zero exception occurs?\n",
        "\n",
        "import logging\n",
        "logging.basicConfig(filename=\"error.log\", level=logging.ERROR)\n",
        "try:\n",
        "    x = 5 / 0\n",
        "except ZeroDivisionError:\n",
        "    logging.error(\"Division by zero error occurred\")\n"
      ],
      "metadata": {
        "colab": {
          "base_uri": "https://localhost:8080/"
        },
        "id": "3wKC9GreIhzk",
        "outputId": "e822c150-820d-4f3d-f219-73475ea717b1"
      },
      "execution_count": null,
      "outputs": [
        {
          "output_type": "stream",
          "name": "stderr",
          "text": [
            "ERROR:root:Division by zero error occurred\n"
          ]
        }
      ]
    },
    {
      "cell_type": "code",
      "source": [
        "# 7.\t How do you log information at different levels (INFO, ERROR, WARNING) in Python using the logging module?\n",
        "\n",
        "import logging\n",
        "logging.basicConfig(level=logging.DEBUG)\n",
        "logging.info(\"Info message\")\n",
        "logging.warning(\"Warning message\")\n",
        "logging.error(\"Error message\")\n"
      ],
      "metadata": {
        "colab": {
          "base_uri": "https://localhost:8080/"
        },
        "id": "n5-DVTJ1Iki8",
        "outputId": "3bf7a482-088a-41e0-ba4e-30b1008e25fb"
      },
      "execution_count": null,
      "outputs": [
        {
          "output_type": "stream",
          "name": "stderr",
          "text": [
            "WARNING:root:Warning message\n",
            "ERROR:root:Error message\n"
          ]
        }
      ]
    },
    {
      "cell_type": "code",
      "source": [
        "# 8.\t Write a program to handle a file opening error using exception handling?\n",
        "\n",
        "try:\n",
        "    f = open(\"nofile.txt\")\n",
        "except IOError:\n",
        "    print(\"Error opening file\")\n"
      ],
      "metadata": {
        "colab": {
          "base_uri": "https://localhost:8080/"
        },
        "id": "RURzJkshIpCU",
        "outputId": "7d0ee466-ece1-42a1-e734-0eb35f0e3b48"
      },
      "execution_count": null,
      "outputs": [
        {
          "output_type": "stream",
          "name": "stdout",
          "text": [
            "Error opening file\n"
          ]
        }
      ]
    },
    {
      "cell_type": "code",
      "source": [
        "# 9.\tHow can you read a file line by line and store its content in a list in Python?\n",
        "\n",
        "with open(\"file.txt\") as f:\n",
        "    lines = f.readlines()\n"
      ],
      "metadata": {
        "id": "_nXwKDISItZV"
      },
      "execution_count": null,
      "outputs": []
    },
    {
      "cell_type": "code",
      "source": [
        "# 10.\tHow can you append data to an existing file in Python?\n",
        "\n",
        "with open(\"file.txt\", \"a\") as f:\n",
        "    f.write(\"\\nNew line added\")\n"
      ],
      "metadata": {
        "id": "s-0Qy8-nIvIM"
      },
      "execution_count": null,
      "outputs": []
    },
    {
      "cell_type": "code",
      "source": [
        "# 11.\tWrite a Python program that uses a try-except block to handle an error when attempting to access a dictionary key that doesn't exist?\n",
        "\n",
        "try:\n",
        "    d = {\"a\": 1}\n",
        "    print(d[\"b\"])\n",
        "except KeyError:\n",
        "    print(\"Key not found!\")\n"
      ],
      "metadata": {
        "colab": {
          "base_uri": "https://localhost:8080/"
        },
        "id": "8fWDwdKCIxHM",
        "outputId": "92c43567-d774-438c-f9ca-5529346d364b"
      },
      "execution_count": null,
      "outputs": [
        {
          "output_type": "stream",
          "name": "stdout",
          "text": [
            "Key not found!\n"
          ]
        }
      ]
    },
    {
      "cell_type": "code",
      "source": [
        "# 12.\tWrite a program that demonstrates using multiple except blocks to handle different types of exceptions?\n",
        "\n",
        "try:\n",
        "    a = int(\"text\")\n",
        "    b = 1 / 0\n",
        "except ValueError:\n",
        "    print(\"Value error\")\n",
        "except ZeroDivisionError:\n",
        "    print(\"Division error\")\n"
      ],
      "metadata": {
        "colab": {
          "base_uri": "https://localhost:8080/"
        },
        "id": "DyiRJ1gtIzq8",
        "outputId": "eab2db11-8674-4de7-a61b-50ac04a33b5b"
      },
      "execution_count": null,
      "outputs": [
        {
          "output_type": "stream",
          "name": "stdout",
          "text": [
            "Value error\n"
          ]
        }
      ]
    },
    {
      "cell_type": "code",
      "source": [
        "# 13.\t How would you check if a file exists before attempting to read it in Python?\n",
        "\n",
        "import os\n",
        "if os.path.exists(\"file.txt\"):\n",
        "    print(\"File exists\")\n",
        "else:\n",
        "    print(\"File not found\")\n"
      ],
      "metadata": {
        "colab": {
          "base_uri": "https://localhost:8080/"
        },
        "id": "10aObTpQI1U8",
        "outputId": "90c0c612-d5a5-4b23-f3d2-9fb6a96debc2"
      },
      "execution_count": null,
      "outputs": [
        {
          "output_type": "stream",
          "name": "stdout",
          "text": [
            "File exists\n"
          ]
        }
      ]
    },
    {
      "cell_type": "code",
      "source": [
        "# 14.\tWrite a program that uses the logging module to log both informational and error messages?\n",
        "\n",
        "import logging\n",
        "logging.basicConfig(filename=\"log.txt\", level=logging.INFO)\n",
        "logging.info(\"Program started\")\n",
        "try:\n",
        "    x = 5 / 0\n",
        "except ZeroDivisionError:\n",
        "    logging.error(\"Division by zero\")\n"
      ],
      "metadata": {
        "colab": {
          "base_uri": "https://localhost:8080/"
        },
        "id": "-SjpvvvEI3sM",
        "outputId": "e3f1317c-c674-4343-b760-659ac362b8a4"
      },
      "execution_count": null,
      "outputs": [
        {
          "output_type": "stream",
          "name": "stderr",
          "text": [
            "ERROR:root:Division by zero\n"
          ]
        }
      ]
    },
    {
      "cell_type": "code",
      "source": [
        "# 15.\tWrite a Python program that prints the content of a file and handles the case when the file is empty?\n",
        "\n",
        "import os\n",
        "if os.stat(\"file.txt\").st_size == 0:\n",
        "    print(\"File is empty\")\n",
        "else:\n",
        "    with open(\"file.txt\") as f:\n",
        "        print(f.read())\n"
      ],
      "metadata": {
        "colab": {
          "base_uri": "https://localhost:8080/"
        },
        "id": "PzaVz15HI5tk",
        "outputId": "1e6a3aaa-2e1a-4bb8-cb29-915c7e0c0879"
      },
      "execution_count": null,
      "outputs": [
        {
          "output_type": "stream",
          "name": "stdout",
          "text": [
            "Hello, Python!\n"
          ]
        }
      ]
    },
    {
      "cell_type": "code",
      "source": [
        "# 16.\t Demonstrate how to use memory profiling to check the memory usage of a small program?\n",
        "\n",
        "from memory_profiler import profile\n",
        "\n",
        "@profile\n",
        "def test():\n",
        "    a = [i for i in range(10000)]\n",
        "\n",
        "test()\n"
      ],
      "metadata": {
        "colab": {
          "base_uri": "https://localhost:8080/",
          "height": 383
        },
        "id": "7hkKQmP6I7mU",
        "outputId": "1631f3bc-3460-4a3c-bf06-5905ebcd4c6f"
      },
      "execution_count": null,
      "outputs": [
        {
          "output_type": "error",
          "ename": "ModuleNotFoundError",
          "evalue": "No module named 'memory_profiler'",
          "traceback": [
            "\u001b[0;31m---------------------------------------------------------------------------\u001b[0m",
            "\u001b[0;31mModuleNotFoundError\u001b[0m                       Traceback (most recent call last)",
            "\u001b[0;32m/tmp/ipython-input-618824420.py\u001b[0m in \u001b[0;36m<cell line: 0>\u001b[0;34m()\u001b[0m\n\u001b[1;32m      1\u001b[0m \u001b[0;31m# 16.    Demonstrate how to use memory profiling to check the memory usage of a small program?\u001b[0m\u001b[0;34m\u001b[0m\u001b[0;34m\u001b[0m\u001b[0m\n\u001b[1;32m      2\u001b[0m \u001b[0;34m\u001b[0m\u001b[0m\n\u001b[0;32m----> 3\u001b[0;31m \u001b[0;32mfrom\u001b[0m \u001b[0mmemory_profiler\u001b[0m \u001b[0;32mimport\u001b[0m \u001b[0mprofile\u001b[0m\u001b[0;34m\u001b[0m\u001b[0;34m\u001b[0m\u001b[0m\n\u001b[0m\u001b[1;32m      4\u001b[0m \u001b[0;34m\u001b[0m\u001b[0m\n\u001b[1;32m      5\u001b[0m \u001b[0;34m@\u001b[0m\u001b[0mprofile\u001b[0m\u001b[0;34m\u001b[0m\u001b[0;34m\u001b[0m\u001b[0m\n",
            "\u001b[0;31mModuleNotFoundError\u001b[0m: No module named 'memory_profiler'",
            "",
            "\u001b[0;31m---------------------------------------------------------------------------\u001b[0;32m\nNOTE: If your import is failing due to a missing package, you can\nmanually install dependencies using either !pip or !apt.\n\nTo view examples of installing some common dependencies, click the\n\"Open Examples\" button below.\n\u001b[0;31m---------------------------------------------------------------------------\u001b[0m\n"
          ],
          "errorDetails": {
            "actions": [
              {
                "action": "open_url",
                "actionText": "Open Examples",
                "url": "/notebooks/snippets/importing_libraries.ipynb"
              }
            ]
          }
        }
      ]
    },
    {
      "cell_type": "code",
      "source": [
        "# 17.\t Write a Python program to create and write a list of numbers to a file, one number per line?\n",
        "\n",
        "nums = [1, 2, 3, 4, 5]\n",
        "with open(\"numbers.txt\", \"w\") as f:\n",
        "    for n in nums:\n",
        "        f.write(str(n) + \"\\n\")\n"
      ],
      "metadata": {
        "id": "0z34j2QVI9wN"
      },
      "execution_count": null,
      "outputs": []
    },
    {
      "cell_type": "code",
      "source": [
        "# 18.\t How would you implement a basic logging setup that logs to a file with rotation after 1MB?\n",
        "\n",
        "import logging\n",
        "from logging.handlers import RotatingFileHandler\n",
        "\n",
        "handler = RotatingFileHandler(\"app.log\", maxBytes=1_000_000, backupCount=3)\n",
        "logging.basicConfig(handlers=[handler], level=logging.INFO)\n"
      ],
      "metadata": {
        "id": "2gI5vobKJAsk"
      },
      "execution_count": null,
      "outputs": []
    },
    {
      "cell_type": "code",
      "source": [
        "# 19.\tWrite a program that handles both IndexError and KeyError using a try-except block?\n",
        "\n",
        "try:\n",
        "    lst = [1, 2]\n",
        "    print(lst[5])\n",
        "    d = {\"a\": 1}\n",
        "    print(d[\"b\"])\n",
        "except IndexError:\n",
        "    print(\"Index out of range\")\n",
        "except KeyError:\n",
        "    print(\"Key not found\")\n"
      ],
      "metadata": {
        "colab": {
          "base_uri": "https://localhost:8080/"
        },
        "id": "k-PQRv2EJB0c",
        "outputId": "abbcfcfc-f01c-43eb-a1e3-9afd0a6900be"
      },
      "execution_count": null,
      "outputs": [
        {
          "output_type": "stream",
          "name": "stdout",
          "text": [
            "Index out of range\n"
          ]
        }
      ]
    },
    {
      "cell_type": "code",
      "source": [
        "# 20.\t How would you open a file and read its contents using a context manager in Python?\n",
        "\n",
        "with open(\"file.txt\") as f:\n",
        "    data = f.read()\n"
      ],
      "metadata": {
        "id": "nCGg7070JEZk"
      },
      "execution_count": null,
      "outputs": []
    },
    {
      "cell_type": "code",
      "source": [
        "# 21.\tWrite a Python program that reads a file and prints the number of occurrences of a specific word?\n",
        "\n",
        "word = \"Python\"\n",
        "count = 0\n",
        "with open(\"file.txt\") as f:\n",
        "    for line in f:\n",
        "        count += line.count(word)\n",
        "print(count)\n"
      ],
      "metadata": {
        "colab": {
          "base_uri": "https://localhost:8080/"
        },
        "id": "cYj3bLXvJG09",
        "outputId": "601110cd-eab0-42b0-8920-1597738f7935"
      },
      "execution_count": null,
      "outputs": [
        {
          "output_type": "stream",
          "name": "stdout",
          "text": [
            "1\n"
          ]
        }
      ]
    },
    {
      "cell_type": "code",
      "source": [
        "# 22.\t How can you check if a file is empty before attempting to read its contents?\n",
        "\n",
        "import os\n",
        "if os.path.getsize(\"file.txt\") == 0:\n",
        "    print(\"Empty file\")\n",
        "else:\n",
        "    print(\"File not empty\")\n"
      ],
      "metadata": {
        "colab": {
          "base_uri": "https://localhost:8080/"
        },
        "id": "3N2dQYi_JIrE",
        "outputId": "20186e55-7bf1-4eda-d765-6e038bf637f1"
      },
      "execution_count": null,
      "outputs": [
        {
          "output_type": "stream",
          "name": "stdout",
          "text": [
            "File not empty\n"
          ]
        }
      ]
    },
    {
      "cell_type": "code",
      "source": [
        "# 23.\t Write a Python program that writes to a log file when an error occurs during file handling?\n",
        "\n",
        "import logging\n",
        "logging.basicConfig(filename=\"file_error.log\", level=logging.ERROR)\n",
        "\n",
        "try:\n",
        "    with open(\"nofile.txt\") as f:\n",
        "        f.read()\n",
        "except Exception as e:\n",
        "    logging.error(\"Error: %s\", e)\n"
      ],
      "metadata": {
        "colab": {
          "base_uri": "https://localhost:8080/"
        },
        "id": "YECDFRzcJK60",
        "outputId": "e549d26e-37c5-40e1-bcb9-8a0f014a9aa6"
      },
      "execution_count": null,
      "outputs": [
        {
          "output_type": "stream",
          "name": "stderr",
          "text": [
            "ERROR:root:Error: [Errno 2] No such file or directory: 'nofile.txt'\n"
          ]
        }
      ]
    }
  ]
}